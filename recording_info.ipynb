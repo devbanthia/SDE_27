{
  "nbformat": 4,
  "nbformat_minor": 0,
  "metadata": {
    "colab": {
      "provenance": []
    },
    "kernelspec": {
      "name": "python3",
      "display_name": "Python 3"
    },
    "language_info": {
      "name": "python"
    }
  },
  "cells": [
    {
      "cell_type": "code",
      "execution_count": 1,
      "metadata": {
        "id": "0YVthvdU7gC5"
      },
      "outputs": [],
      "source": [
        "import re\n",
        "\n",
        "def find_date_time(text):\n",
        "\n",
        "  date_pattern = r\"(?:\\b(?:19|20)\\d{2}[-/.](?:0?[1-9]|1[0-2])[-/.](?:0?[1-9]|[12]\\d|3[01])\\b)|(?:\\b(?:0?[1-9]|1[0-2])[-/.](?:0?[1-9]|[12]\\d|3[01])[-/.](?:19|20)\\d{2}\\b)|(?:\\b(?:0?[1-9]|[12]\\d|3[01])[-/.](?:0?[1-9]|1[0-2])[-/.](?:19|20)\\d{2}\\b)|(?:\\b(?:0?[1-9]|[12]\\d|3[01])(?:st|nd|rd|th)?(?:\\s*of)?[\\s-]+(?:Jan(?:uary)?|Feb(?:ruary)?|Mar(?:ch)?|Apr(?:il)?|May|Jun(?:e)?|Jul(?:y)?|Aug(?:ust)?|Sep(?:tember)?|Oct(?:ober)?|Nov(?:ember)?|Dec(?:ember)?)[\\s-]*(?:\\d{4})?\\b)|(?:\\b(?:Jan(?:uary)?|Feb(?:ruary)?|Mar(?:ch)?|Apr(?:il)?|May|Jun(?:e)?|Jul(?:y)?|Aug(?:ust)?|Sep(?:tember)?|Oct(?:ober)?|Nov(?:ember)?|Dec(?:ember)?)[\\s-]+(?:0?[1-9]|[12]\\d|3[01])(?:st|nd|rd|th)?(?:[\\s,-]*\\d{4})?\\b)|(?:\\b\\d{4}[\\s,-]+(?:Jan(?:uary)?|Feb(?:ruary)?|Mar(?:ch)?|Apr(?:il)?|May|Jun(?:e)?|Jul(?:y)?|Aug(?:ust)?|Sep(?:tember)?|Oct(?:ober)?|Nov(?:ember)?|Dec(?:ember)?)[\\s,-]+(?:0?[1-9]|[12]\\d|3[01])(?:st|nd|rd|th)?\\b)|(?:\\b(?:0?[1-9]|[12]\\d|3[01])\\.(?:0?[1-9]|1[0-2])\\.(?:19|20)\\d{2}\\b)\"\n",
        "  time_pattern = r\"(?:[01]?\\d|2[0-3]):[0-5]\\d(?::[0-5]\\d)?(?:\\s*[APap][Mm])?|\\b(?:[1-9]|1[0-2])(?:[:.][0-5]\\d){1,2}\\s*[APap][Mm]\\b\"\n",
        "\n",
        "  date_time_separator = r\"\\s*-\\s*|\\s+at\\s+|\\s*,\\s*|\\s*\"\n",
        "  date_time_pattern = rf\"(?:{date_pattern})(?:{date_time_separator})(?:{time_pattern})\"\n",
        "\n",
        "\n",
        "  comma_separator = r\"\\s*,\\s*\"\n",
        "  and_separator = r\"\\s*and\\s*\"\n",
        "\n",
        "  word_separator = rf\"(?:{comma_separator}|{and_separator}|\\s+)\"\n",
        "\n",
        "  return re.search(date_time_pattern, text, re.IGNORECASE)"
      ]
    }
  ]
}